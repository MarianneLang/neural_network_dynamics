{
 "cells": [
  {
   "cell_type": "code",
   "execution_count": 12,
   "metadata": {
    "collapsed": false,
    "slideshow": {
     "slide_type": "slide"
    }
   },
   "outputs": [],
   "source": [
    "%matplotlib inline"
   ]
  },
  {
   "cell_type": "code",
   "execution_count": 1,
   "metadata": {
    "collapsed": false
   },
   "outputs": [
    {
     "name": "stdout",
     "output_type": "stream",
     "text": [
      "/Users/yzerlaut/work/neural_network_dynamics/cells\n"
     ]
    }
   ],
   "source": [
    "cd ../../cells/"
   ]
  },
  {
   "cell_type": "code",
   "execution_count": null,
   "metadata": {
    "collapsed": false
   },
   "outputs": [
    {
     "name": "stdout",
     "output_type": "stream",
     "text": [
      "\n",
      "This file construct the equations for brian2\n",
      "\n",
      "/!\\ cell parameters --NOT-- in SI units /!\\ \n"
     ]
    }
   ],
   "source": [
    "%run cell_construct.py -n LIF -c 'r' --save '../projects/biophys_awareness/data/inh_cell.svg' --amp 250\n",
    "plt.show()"
   ]
  },
  {
   "cell_type": "code",
   "execution_count": null,
   "metadata": {
    "collapsed": false
   },
   "outputs": [],
   "source": [
    "%run cell_construct.py -n AdExp -c 'g' --save '../projects/biophys_awareness/data/exc_cell.svg' --amp 250\n",
    "plt.show()"
   ]
  },
  {
   "cell_type": "code",
   "execution_count": null,
   "metadata": {
    "collapsed": true
   },
   "outputs": [],
   "source": [
    "%run cell_construct.py -n LIF_Vreset_-60 -c 'k' --save '../projects/biophys_awareness/data/VA_cell.svg' --amp 250\n",
    "plt.show()"
   ]
  },
  {
   "cell_type": "code",
   "execution_count": 41,
   "metadata": {
    "collapsed": false
   },
   "outputs": [
    {
     "name": "stdout",
     "output_type": "stream",
     "text": [
      "/home/safaai/yann/neural_network_dynamics/projects/biophys_awareness\n"
     ]
    }
   ],
   "source": [
    "cd ../projects/biophys_awareness/"
   ]
  },
  {
   "cell_type": "code",
   "execution_count": 1,
   "metadata": {
    "collapsed": false,
    "slideshow": {
     "slide_type": "-"
    }
   },
   "outputs": [],
   "source": [
    "%run contrib_of_single_spike.py -f data/active.npz# default config (RS-FS)"
   ]
  },
  {
   "cell_type": "code",
   "execution_count": 2,
   "metadata": {
    "collapsed": false
   },
   "outputs": [],
   "source": [
    "%run contrib_of_single_spike.py -f data/VA.npz --NRNe LIF_Vreset_-60 --NRNi LIF_Vreset_-60 --NTWK Vogels-Abbott --fext_stat 0. --tstop 50000. --nsim 4"
   ]
  },
  {
   "cell_type": "code",
   "execution_count": 34,
   "metadata": {
    "collapsed": false
   },
   "outputs": [
    {
     "data": {
      "image/png": "[encoded data removed]",
      "text/plain": [
       "<matplotlib.figure.Figure at 0x1145de470>"
      ]
     },
     "metadata": {},
     "output_type": "display_data"
    }
   ],
   "source": [
    "VAdata = np.load('data/VA.npz')\n",
    "RFdata = np.load('data/active.npz')\n",
    "\n",
    "args = VAdata['args'].all()\n",
    "\n",
    "fig, AX = plt.subplots(1, figsize=(5,3.5))\n",
    "plt.subplots_adjust(left=0.15, bottom=0.15)\n",
    "# normalize to mean level\n",
    "t_zoom = np.linspace(-19, 35, int(54/args.DT)+1)\n",
    "traceVA, counterVA = 0.*t_zoom, 0\n",
    "for spike_times, exc_act in zip(VAdata['SPK_TIMES'], VAdata['EXC_ACTS']):\n",
    "    i_plot = int(VAdata['SPK_TIMES'].shape[0]*len(np.unique(spike_times))/20)\n",
    "    for t_spk in np.unique(spike_times):\n",
    "        i_spk = int(t_spk/args.DT)\n",
    "        counterVA += 1\n",
    "        traceVA += exc_act[i_spk+int(t_zoom[0]/args.DT):i_spk+int(t_zoom[-1]/args.DT)+1]\n",
    "VA_resp = traceVA/counterVA\n",
    "\n",
    "traceRF, counterRF = 0.*t_zoom, 0\n",
    "for spike_times, exc_act in zip(RFdata['SPK_TIMES'], RFdata['EXC_ACTS']):\n",
    "    i_plot = int(RFdata['SPK_TIMES'].shape[0]*len(np.unique(spike_times))/20)\n",
    "    for t_spk in np.unique(spike_times):\n",
    "        i_spk = int(t_spk/args.DT)\n",
    "        counterRF +=1\n",
    "        traceRF += exc_act[i_spk+int(t_zoom[0]/args.DT):i_spk+int(t_zoom[-1]/args.DT)+1]\n",
    "RSFS_resp = traceRF/counterRF\n",
    "\n",
    "AX.plot(t_zoom, 100.*RSFS_resp/RSFS_resp[t_zoom<0].mean(), 'k-', lw=2, label='RS-FS')\n",
    "AX.plot(t_zoom, 100.*VA_resp/VA_resp[t_zoom<0].mean(), 'm-', lw=2, label='VA-2005')\n",
    "AX.legend(prop={'size':'small'})\n",
    "import sys\n",
    "sys.path.append('/Users/yzerlaut/work/common_libraries/')\n",
    "from graphs.my_graph import set_plot\n",
    "set_plot(AX, xlabel='time lag (ms)', ylabel='pop. act. (%) \\n norm. to baseline')\n",
    "fig.savefig('/Users/yzerlaut/Desktop/fig2.svg')"
   ]
  },
  {
   "cell_type": "code",
   "execution_count": null,
   "metadata": {
    "collapsed": true
   },
   "outputs": [],
   "source": []
  }
 ],
 "metadata": {
  "anaconda-cloud": {},
  "kernelspec": {
   "display_name": "Python [Root]",
   "language": "python",
   "name": "Python [Root]"
  },
  "language_info": {
   "codemirror_mode": {
    "name": "ipython",
    "version": 3
   },
   "file_extension": ".py",
   "mimetype": "text/x-python",
   "name": "python",
   "nbconvert_exporter": "python",
   "pygments_lexer": "ipython3",
   "version": "3.5.2"
  }
 },
 "nbformat": 4,
 "nbformat_minor": 0
}
