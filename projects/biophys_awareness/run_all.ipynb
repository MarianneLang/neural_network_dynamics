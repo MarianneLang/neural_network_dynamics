{
 "cells": [
  {
   "cell_type": "code",
   "execution_count": 1,
   "metadata": {
    "collapsed": false,
    "slideshow": {
     "slide_type": "slide"
    }
   },
   "outputs": [],
   "source": [
    "%matplotlib inline"
   ]
  },
  {
   "cell_type": "code",
   "execution_count": 2,
   "metadata": {
    "collapsed": false
   },
   "outputs": [
    {
     "name": "stdout",
     "output_type": "stream",
     "text": [
      "[Errno 2] No such file or directory: '/home/safaai/yann/neural_network_dynamics/cells/'\n",
      "/Users/yzerlaut/work/neural_network_dynamics/projects/biophys_awareness\n"
     ]
    }
   ],
   "source": [
    "cd /home/safaai/yann/neural_network_dynamics/cells/"
   ]
  },
  {
   "cell_type": "code",
   "execution_count": 3,
   "metadata": {
    "collapsed": false
   },
   "outputs": [
    {
     "name": "stderr",
     "output_type": "stream",
     "text": [
      "ERROR: File `'cell_construct.py'` not found.\n"
     ]
    }
   ],
   "source": [
    "%run cell_construct.py -n EIF -c 'r' --save '../projects/biophys_awareness/data/inh_cell.svg' --amp 250\n",
    "plt.show()"
   ]
  },
  {
   "cell_type": "code",
   "execution_count": 40,
   "metadata": {
    "collapsed": false
   },
   "outputs": [
    {
     "name": "stdout",
     "output_type": "stream",
     "text": [
      "\n",
      "This file construct the equations for brian2\n",
      "\n",
      "/!\\ cell parameters --NOT-- in SI units /!\\ \n"
     ]
    },
    {
     "data": {
      "image/png": "[encoded data removed]",
      "text/plain": [
       "<matplotlib.figure.Figure at 0x7f90994f85c0>"
      ]
     },
     "metadata": {},
     "output_type": "display_data"
    }
   ],
   "source": [
    "%run cell_construct.py -n AdExp -c 'g' --save '../projects/biophys_awareness/data/exc_cell.svg' --amp 250\n",
    "plt.show()"
   ]
  },
  {
   "cell_type": "code",
   "execution_count": 41,
   "metadata": {
    "collapsed": false
   },
   "outputs": [
    {
     "name": "stdout",
     "output_type": "stream",
     "text": [
      "/home/safaai/yann/neural_network_dynamics/projects/biophys_awareness\n"
     ]
    }
   ],
   "source": [
    "cd /home/safaai/yann/neural_network_dynamics/projects/biophys_awareness/"
   ]
  },
  {
   "cell_type": "code",
   "execution_count": 44,
   "metadata": {
    "collapsed": false,
    "slideshow": {
     "slide_type": "-"
    }
   },
   "outputs": [
    {
     "ename": "ImportError",
     "evalue": "No module named 'common_libraries.data_analysis'",
     "output_type": "error",
     "traceback": [
      "\u001b[1;31m---------------------------------------------------------------------------\u001b[0m",
      "\u001b[1;31mImportError\u001b[0m                               Traceback (most recent call last)",
      "\u001b[1;32m/home/safaai/yann/neural_network_dynamics/projects/biophys_awareness/raster.py\u001b[0m in \u001b[0;36m<module>\u001b[1;34m()\u001b[0m\n\u001b[0;32m     13\u001b[0m \u001b[1;32mfrom\u001b[0m \u001b[0mntwk_stim\u001b[0m\u001b[1;33m.\u001b[0m\u001b[0mwaveform_library\u001b[0m \u001b[1;32mimport\u001b[0m \u001b[0mdouble_gaussian\u001b[0m\u001b[1;33m,\u001b[0m \u001b[0mramp_rise_then_constant\u001b[0m\u001b[1;33m\u001b[0m\u001b[0m\n\u001b[0;32m     14\u001b[0m \u001b[1;32mfrom\u001b[0m \u001b[0mntwk_stim\u001b[0m\u001b[1;33m.\u001b[0m\u001b[0mconnect_afferent_input\u001b[0m \u001b[1;32mimport\u001b[0m \u001b[0mconstruct_feedforward_input\u001b[0m\u001b[1;33m\u001b[0m\u001b[0m\n\u001b[1;32m---> 15\u001b[1;33m \u001b[1;32mfrom\u001b[0m \u001b[0mcommon_libraries\u001b[0m\u001b[1;33m.\u001b[0m\u001b[0mdata_analysis\u001b[0m\u001b[1;33m.\u001b[0m\u001b[0marray_funcs\u001b[0m \u001b[1;32mimport\u001b[0m \u001b[0mfind_coincident_duplicates_in_two_arrays\u001b[0m\u001b[1;33m\u001b[0m\u001b[0m\n\u001b[0m\u001b[0;32m     16\u001b[0m \u001b[1;33m\u001b[0m\u001b[0m\n\u001b[0;32m     17\u001b[0m \u001b[1;33m\u001b[0m\u001b[0m\n",
      "\u001b[1;31mImportError\u001b[0m: No module named 'common_libraries.data_analysis'"
     ]
    }
   ],
   "source": [
    "%run raster --Qe 1. --Qi 4. --Qe_ff 2. --fext 3.23"
   ]
  },
  {
   "cell_type": "code",
   "execution_count": 4,
   "metadata": {
    "collapsed": false
   },
   "outputs": [
    {
     "name": "stdout",
     "output_type": "stream",
     "text": [
      "synaptic network parameters --NOT-- in SI units\n",
      "Vreset  changed to -->  -60.0\n",
      "/!\\ cell parameters --NOT-- in SI units /!\\ \n",
      "Vreset  changed to -->  -60.0\n",
      "/!\\ cell parameters --NOT-- in SI units /!\\ \n",
      "Vreset  changed to -->  -60.0\n",
      "Vreset  changed to -->  -60.0\n"
     ]
    }
   ],
   "source": [
    "%run contrib_of_single_spike.py --NRNe LIF_Vreset_-60 --NRNi LIF_Vreset_-60 --NTWK Vogels-Abbott --fext_stat 0. --tstop 1000."
   ]
  },
  {
   "cell_type": "code",
   "execution_count": null,
   "metadata": {
    "collapsed": true
   },
   "outputs": [],
   "source": []
  }
 ],
 "metadata": {
  "anaconda-cloud": {},
  "kernelspec": {
   "display_name": "Python [Root]",
   "language": "python",
   "name": "Python [Root]"
  },
  "language_info": {
   "codemirror_mode": {
    "name": "ipython",
    "version": 3
   },
   "file_extension": ".py",
   "mimetype": "text/x-python",
   "name": "python",
   "nbconvert_exporter": "python",
   "pygments_lexer": "ipython3",
   "version": "3.5.2"
  }
 },
 "nbformat": 4,
 "nbformat_minor": 0
}
